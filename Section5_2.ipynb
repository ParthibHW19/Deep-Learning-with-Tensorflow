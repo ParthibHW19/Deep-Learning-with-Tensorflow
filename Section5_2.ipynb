{
  "nbformat": 4,
  "nbformat_minor": 0,
  "metadata": {
    "colab": {
      "name": "Section5_2.ipynb",
      "provenance": []
    },
    "kernelspec": {
      "display_name": "Python 3",
      "language": "python",
      "name": "python3"
    }
  },
  "cells": [
    {
      "cell_type": "code",
      "metadata": {
        "id": "xdcguy5xxXM4"
      },
      "source": [
        "import tensorflow as tf\n",
        "import pandas as pd\n",
        "import numpy as np\n",
        "import matplotlib.pyplot as plt\n",
        "\n",
        "from sklearn.model_selection import train_test_split\n",
        "from tensorflow.contrib.layers import fully_connected\n",
        "\n",
        "%matplotlib inline"
      ],
      "execution_count": null,
      "outputs": []
    },
    {
      "cell_type": "code",
      "metadata": {
        "id": "IJETlbF8xXM-"
      },
      "source": [
        "data_path= 'diamonds.csv'\n",
        "diamonds = pd.read_csv(data_path)\n",
        "diamonds.head()\n",
        "diamonds = pd.concat([diamonds, pd.get_dummies(diamonds['cut'], prefix='cut', drop_first=True)],axis=1)\n",
        "diamonds = pd.concat([diamonds, pd.get_dummies(diamonds['color'], prefix='color', drop_first=True)],axis=1)\n",
        "diamonds = pd.concat([diamonds, pd.get_dummies(diamonds['clarity'], prefix='clarity', drop_first=True)],axis=1)\n",
        "diamonds.drop(['cut','color','clarity'], axis=1, inplace=True)"
      ],
      "execution_count": null,
      "outputs": []
    },
    {
      "cell_type": "code",
      "metadata": {
        "id": "Z2p3w1g-x0aI",
        "outputId": "a624e486-ec9b-42b8-aaeb-ababcc8f4ead",
        "colab": {
          "base_uri": "https://localhost:8080/",
          "height": 253
        }
      },
      "source": [
        "diamonds.head()"
      ],
      "execution_count": null,
      "outputs": [
        {
          "output_type": "execute_result",
          "data": {
            "text/html": [
              "<div>\n",
              "<style scoped>\n",
              "    .dataframe tbody tr th:only-of-type {\n",
              "        vertical-align: middle;\n",
              "    }\n",
              "\n",
              "    .dataframe tbody tr th {\n",
              "        vertical-align: top;\n",
              "    }\n",
              "\n",
              "    .dataframe thead th {\n",
              "        text-align: right;\n",
              "    }\n",
              "</style>\n",
              "<table border=\"1\" class=\"dataframe\">\n",
              "  <thead>\n",
              "    <tr style=\"text-align: right;\">\n",
              "      <th></th>\n",
              "      <th>carat</th>\n",
              "      <th>depth</th>\n",
              "      <th>table</th>\n",
              "      <th>price</th>\n",
              "      <th>x</th>\n",
              "      <th>y</th>\n",
              "      <th>z</th>\n",
              "      <th>cut_Good</th>\n",
              "      <th>cut_Ideal</th>\n",
              "      <th>cut_Premium</th>\n",
              "      <th>...</th>\n",
              "      <th>color_H</th>\n",
              "      <th>color_I</th>\n",
              "      <th>color_J</th>\n",
              "      <th>clarity_IF</th>\n",
              "      <th>clarity_SI1</th>\n",
              "      <th>clarity_SI2</th>\n",
              "      <th>clarity_VS1</th>\n",
              "      <th>clarity_VS2</th>\n",
              "      <th>clarity_VVS1</th>\n",
              "      <th>clarity_VVS2</th>\n",
              "    </tr>\n",
              "  </thead>\n",
              "  <tbody>\n",
              "    <tr>\n",
              "      <th>0</th>\n",
              "      <td>0.23</td>\n",
              "      <td>61.5</td>\n",
              "      <td>55.0</td>\n",
              "      <td>326</td>\n",
              "      <td>3.95</td>\n",
              "      <td>3.98</td>\n",
              "      <td>2.43</td>\n",
              "      <td>0</td>\n",
              "      <td>1</td>\n",
              "      <td>0</td>\n",
              "      <td>...</td>\n",
              "      <td>0</td>\n",
              "      <td>0</td>\n",
              "      <td>0</td>\n",
              "      <td>0</td>\n",
              "      <td>0</td>\n",
              "      <td>1</td>\n",
              "      <td>0</td>\n",
              "      <td>0</td>\n",
              "      <td>0</td>\n",
              "      <td>0</td>\n",
              "    </tr>\n",
              "    <tr>\n",
              "      <th>1</th>\n",
              "      <td>0.21</td>\n",
              "      <td>59.8</td>\n",
              "      <td>61.0</td>\n",
              "      <td>326</td>\n",
              "      <td>3.89</td>\n",
              "      <td>3.84</td>\n",
              "      <td>2.31</td>\n",
              "      <td>0</td>\n",
              "      <td>0</td>\n",
              "      <td>1</td>\n",
              "      <td>...</td>\n",
              "      <td>0</td>\n",
              "      <td>0</td>\n",
              "      <td>0</td>\n",
              "      <td>0</td>\n",
              "      <td>1</td>\n",
              "      <td>0</td>\n",
              "      <td>0</td>\n",
              "      <td>0</td>\n",
              "      <td>0</td>\n",
              "      <td>0</td>\n",
              "    </tr>\n",
              "    <tr>\n",
              "      <th>2</th>\n",
              "      <td>0.23</td>\n",
              "      <td>56.9</td>\n",
              "      <td>65.0</td>\n",
              "      <td>327</td>\n",
              "      <td>4.05</td>\n",
              "      <td>4.07</td>\n",
              "      <td>2.31</td>\n",
              "      <td>1</td>\n",
              "      <td>0</td>\n",
              "      <td>0</td>\n",
              "      <td>...</td>\n",
              "      <td>0</td>\n",
              "      <td>0</td>\n",
              "      <td>0</td>\n",
              "      <td>0</td>\n",
              "      <td>0</td>\n",
              "      <td>0</td>\n",
              "      <td>1</td>\n",
              "      <td>0</td>\n",
              "      <td>0</td>\n",
              "      <td>0</td>\n",
              "    </tr>\n",
              "    <tr>\n",
              "      <th>3</th>\n",
              "      <td>0.29</td>\n",
              "      <td>62.4</td>\n",
              "      <td>58.0</td>\n",
              "      <td>334</td>\n",
              "      <td>4.20</td>\n",
              "      <td>4.23</td>\n",
              "      <td>2.63</td>\n",
              "      <td>0</td>\n",
              "      <td>0</td>\n",
              "      <td>1</td>\n",
              "      <td>...</td>\n",
              "      <td>0</td>\n",
              "      <td>1</td>\n",
              "      <td>0</td>\n",
              "      <td>0</td>\n",
              "      <td>0</td>\n",
              "      <td>0</td>\n",
              "      <td>0</td>\n",
              "      <td>1</td>\n",
              "      <td>0</td>\n",
              "      <td>0</td>\n",
              "    </tr>\n",
              "    <tr>\n",
              "      <th>4</th>\n",
              "      <td>0.31</td>\n",
              "      <td>63.3</td>\n",
              "      <td>58.0</td>\n",
              "      <td>335</td>\n",
              "      <td>4.34</td>\n",
              "      <td>4.35</td>\n",
              "      <td>2.75</td>\n",
              "      <td>1</td>\n",
              "      <td>0</td>\n",
              "      <td>0</td>\n",
              "      <td>...</td>\n",
              "      <td>0</td>\n",
              "      <td>0</td>\n",
              "      <td>1</td>\n",
              "      <td>0</td>\n",
              "      <td>0</td>\n",
              "      <td>1</td>\n",
              "      <td>0</td>\n",
              "      <td>0</td>\n",
              "      <td>0</td>\n",
              "      <td>0</td>\n",
              "    </tr>\n",
              "  </tbody>\n",
              "</table>\n",
              "<p>5 rows × 24 columns</p>\n",
              "</div>"
            ],
            "text/plain": [
              "   carat  depth  table  price     x     y     z  cut_Good  cut_Ideal  \\\n",
              "0   0.23   61.5   55.0    326  3.95  3.98  2.43         0          1   \n",
              "1   0.21   59.8   61.0    326  3.89  3.84  2.31         0          0   \n",
              "2   0.23   56.9   65.0    327  4.05  4.07  2.31         1          0   \n",
              "3   0.29   62.4   58.0    334  4.20  4.23  2.63         0          0   \n",
              "4   0.31   63.3   58.0    335  4.34  4.35  2.75         1          0   \n",
              "\n",
              "   cut_Premium      ...       color_H  color_I  color_J  clarity_IF  \\\n",
              "0            0      ...             0        0        0           0   \n",
              "1            1      ...             0        0        0           0   \n",
              "2            0      ...             0        0        0           0   \n",
              "3            1      ...             0        1        0           0   \n",
              "4            0      ...             0        0        1           0   \n",
              "\n",
              "   clarity_SI1  clarity_SI2  clarity_VS1  clarity_VS2  clarity_VVS1  \\\n",
              "0            0            1            0            0             0   \n",
              "1            1            0            0            0             0   \n",
              "2            0            0            1            0             0   \n",
              "3            0            0            0            1             0   \n",
              "4            0            1            0            0             0   \n",
              "\n",
              "   clarity_VVS2  \n",
              "0             0  \n",
              "1             0  \n",
              "2             0  \n",
              "3             0  \n",
              "4             0  \n",
              "\n",
              "[5 rows x 24 columns]"
            ]
          },
          "metadata": {
            "tags": []
          },
          "execution_count": 9
        }
      ]
    },
    {
      "cell_type": "code",
      "metadata": {
        "id": "eqP7_XN4xXNB"
      },
      "source": [
        "from sklearn.preprocessing import RobustScaler\n",
        "target_name = 'price'\n",
        "robust_scaler = RobustScaler()\n",
        "X = diamonds.drop('price', axis=1)\n",
        "X = robust_scaler.fit_transform(X)\n",
        "y = diamonds[target_name]\n",
        "X_train, X_test, y_train, y_test = train_test_split(X, y, test_size=0.1, random_state=123)"
      ],
      "execution_count": null,
      "outputs": []
    },
    {
      "cell_type": "code",
      "metadata": {
        "id": "w70HxPrvxXND"
      },
      "source": [
        "n_epochs = 40\n",
        "batch_size = 50 "
      ],
      "execution_count": null,
      "outputs": []
    },
    {
      "cell_type": "code",
      "metadata": {
        "id": "vePZL2h1xXNG",
        "outputId": "a5d3e1e7-cdd3-422d-891d-16bc6e20307d",
        "colab": {
          "base_uri": "https://localhost:8080/",
          "height": 139
        }
      },
      "source": [
        "X_placeholder = tf.placeholder(X_train.dtype, shape=X_train.shape)\n",
        "y_placeholder = tf.placeholder(y_train.dtype, shape=y_train.shape)\n",
        "\n",
        "dataset = tf.data.Dataset.from_tensor_slices((X_placeholder, y_placeholder))\n",
        "dataset = dataset.shuffle(buffer_size=10000)\n",
        "dataset = dataset.batch(batch_size)\n",
        "iterator = dataset.make_initializable_iterator()\n",
        "next_element = iterator.get_next()"
      ],
      "execution_count": null,
      "outputs": [
        {
          "output_type": "stream",
          "text": [
            "WARNING:tensorflow:From <ipython-input-13-0e68a643cc74>:7: DatasetV1.make_initializable_iterator (from tensorflow.python.data.ops.dataset_ops) is deprecated and will be removed in a future version.\n",
            "Instructions for updating:\n",
            "Use `for ... in dataset:` to iterate over a dataset. If using `tf.estimator`, return the `Dataset` object directly from your input function. As a last resort, you can use `tf.compat.v1.data.make_initializable_iterator(dataset)`.\n",
            "WARNING:tensorflow:From /usr/local/lib/python3.6/dist-packages/tensorflow/python/data/ops/dataset_ops.py:1417: colocate_with (from tensorflow.python.framework.ops) is deprecated and will be removed in a future version.\n",
            "Instructions for updating:\n",
            "Colocations handled automatically by placer.\n"
          ],
          "name": "stdout"
        }
      ]
    },
    {
      "cell_type": "code",
      "metadata": {
        "id": "eoCw27MOzx3g",
        "outputId": "a14de1ab-9669-48ff-a141-71b6a30748ed",
        "colab": {
          "base_uri": "https://localhost:8080/",
          "height": 34
        }
      },
      "source": [
        "X_train.shape"
      ],
      "execution_count": null,
      "outputs": [
        {
          "output_type": "execute_result",
          "data": {
            "text/plain": [
              "(48546, 23)"
            ]
          },
          "metadata": {
            "tags": []
          },
          "execution_count": 15
        }
      ]
    },
    {
      "cell_type": "code",
      "metadata": {
        "id": "IOiX_nXIxXNI",
        "outputId": "ededcf62-3996-4423-fdca-668d20b49fe6",
        "colab": {
          "base_uri": "https://localhost:8080/",
          "height": 34
        }
      },
      "source": [
        "n_inputs = X_train.shape[1] #23\n",
        "print(n_inputs)\n",
        "n_hidden1 = 256\n",
        "n_hidden2 = 128 \n",
        "n_hidden3 = 64\n",
        "n_outputs = 1"
      ],
      "execution_count": null,
      "outputs": [
        {
          "output_type": "stream",
          "text": [
            "23\n"
          ],
          "name": "stdout"
        }
      ]
    },
    {
      "cell_type": "code",
      "metadata": {
        "id": "ITHQCZlzxXNK",
        "outputId": "337413d4-f146-41e9-d744-c27c785acc92",
        "colab": {
          "base_uri": "https://localhost:8080/",
          "height": 51
        }
      },
      "source": [
        "X = tf.placeholder(X_train.dtype, shape=[None,n_inputs])\n",
        "print(X)\n",
        "y = tf.placeholder(y_train.dtype)\n",
        "print(y)"
      ],
      "execution_count": null,
      "outputs": [
        {
          "output_type": "stream",
          "text": [
            "Tensor(\"Placeholder_4:0\", shape=(?, 23), dtype=float64)\n",
            "Tensor(\"Placeholder_5:0\", dtype=int64)\n"
          ],
          "name": "stdout"
        }
      ]
    },
    {
      "cell_type": "code",
      "metadata": {
        "id": "IfNMEtI1xXNM"
      },
      "source": [
        "def DNN(X_values):\n",
        "    hidden1 = fully_connected(X_values, n_hidden1)\n",
        "    hidden2 = fully_connected(hidden1, n_hidden2)\n",
        "    hidden3 = fully_connected(hidden2, n_hidden3)\n",
        "    y_pred = fully_connected(hidden3, n_outputs, activation_fn=None)\n",
        "    return tf.squeeze(y_pred)"
      ],
      "execution_count": null,
      "outputs": []
    },
    {
      "cell_type": "code",
      "metadata": {
        "id": "B9ZAgo8VxXNO",
        "outputId": "5225cfaf-ee06-47ee-9ac6-3b9d839ebca4",
        "colab": {
          "base_uri": "https://localhost:8080/",
          "height": 88
        }
      },
      "source": [
        "y_pred = DNN(X)\n",
        "loss = tf.losses.mean_squared_error(labels=y, predictions=y_pred)"
      ],
      "execution_count": null,
      "outputs": [
        {
          "output_type": "stream",
          "text": [
            "WARNING:tensorflow:From /usr/local/lib/python3.6/dist-packages/tensorflow/python/ops/losses/losses_impl.py:667: to_float (from tensorflow.python.ops.math_ops) is deprecated and will be removed in a future version.\n",
            "Instructions for updating:\n",
            "Use tf.cast instead.\n"
          ],
          "name": "stdout"
        }
      ]
    },
    {
      "cell_type": "code",
      "metadata": {
        "id": "cmSeE4xgxXNR",
        "outputId": "42cb3e08-a7a6-4362-a64a-d48b82106687",
        "colab": {
          "base_uri": "https://localhost:8080/",
          "height": 88
        }
      },
      "source": [
        "optimizer = tf.train.AdamOptimizer()\n",
        "training_op = optimizer.minimize(loss)"
      ],
      "execution_count": null,
      "outputs": [
        {
          "output_type": "stream",
          "text": [
            "WARNING:tensorflow:From /usr/local/lib/python3.6/dist-packages/tensorflow/python/ops/math_ops.py:3066: to_int32 (from tensorflow.python.ops.math_ops) is deprecated and will be removed in a future version.\n",
            "Instructions for updating:\n",
            "Use tf.cast instead.\n"
          ],
          "name": "stdout"
        }
      ]
    },
    {
      "cell_type": "code",
      "metadata": {
        "id": "mFBki5bYxXNT"
      },
      "source": [
        "train_mse = np.zeros(n_epochs)\n",
        "test_mse = np.zeros(n_epochs)"
      ],
      "execution_count": null,
      "outputs": []
    },
    {
      "cell_type": "code",
      "metadata": {
        "id": "48_sYv3TxXNW",
        "outputId": "1bf8a26b-9a67-4e96-8d49-bed653e085d0",
        "colab": {
          "base_uri": "https://localhost:8080/",
          "height": 2618
        }
      },
      "source": [
        "with tf.Session() as sess:\n",
        "    tf.global_variables_initializer().run()\n",
        "    for epoch in range(n_epochs):\n",
        "        sess.run(iterator.initializer, feed_dict={X_placeholder: X_train, y_placeholder: y_train})\n",
        "        while True:\n",
        "            try:\n",
        "                batch_data = sess.run(next_element)\n",
        "                X_batch = batch_data[0]\n",
        "                y_batch = batch_data[1]\n",
        "                sess.run(training_op, feed_dict={X: X_batch, y:y_batch})\n",
        "            except tf.errors.OutOfRangeError:\n",
        "                break\n",
        "        print(\"=============EPOCH {}============\".format(epoch+1))\n",
        "        train_mse[epoch] = loss.eval(feed_dict={X:X_batch, y:y_batch})\n",
        "        test_mse[epoch] = loss.eval(feed_dict={X:X_test, y:y_test})\n",
        "        print('Training MSE:', round(train_mse[epoch],1))\n",
        "        print('Test MSE:', round(test_mse[epoch],1))\n",
        "    print(\"Done Trainning\")\n",
        "    \n",
        "    ## Producing individual predictions\n",
        "    print(\"\\n=====================\\n\")\n",
        "    print(\"Using the network to make individual predictions\")\n",
        "    n_pred = 25\n",
        "    y_obs = y_test[:n_pred]\n",
        "    y_predicted = y_pred.eval(feed_dict={X:X_test[:n_pred,]})\n",
        "    print(\"Actual | Predicted\")\n",
        "    print(\"=====================\") \n",
        "    for obs, pred in zip(y_obs, y_predicted):\n",
        "        print(\"{: >8}   |{: >8}\".format(round(obs), round(pred)))\n",
        "    print(\"Correlation: \", np.corrcoef(y_obs, y_predicted)[0,1])"
      ],
      "execution_count": null,
      "outputs": [
        {
          "output_type": "stream",
          "text": [
            "=============EPOCH 1============\n",
            "Training MSE: 1096346.6\n",
            "Test MSE: 941785.9\n",
            "=============EPOCH 2============\n",
            "Training MSE: 833302.8\n",
            "Test MSE: 878727.4\n",
            "=============EPOCH 3============\n",
            "Training MSE: 1055195.6\n",
            "Test MSE: 698299.4\n",
            "=============EPOCH 4============\n",
            "Training MSE: 299094.2\n",
            "Test MSE: 658407.3\n",
            "=============EPOCH 5============\n",
            "Training MSE: 744400.7\n",
            "Test MSE: 604486.9\n",
            "=============EPOCH 6============\n",
            "Training MSE: 161222.9\n",
            "Test MSE: 588884.9\n",
            "=============EPOCH 7============\n",
            "Training MSE: 480636.5\n",
            "Test MSE: 549324.1\n",
            "=============EPOCH 8============\n",
            "Training MSE: 492386.1\n",
            "Test MSE: 503463.3\n",
            "=============EPOCH 9============\n",
            "Training MSE: 253720.5\n",
            "Test MSE: 512647.1\n",
            "=============EPOCH 10============\n",
            "Training MSE: 540917.1\n",
            "Test MSE: 434403.1\n",
            "=============EPOCH 11============\n",
            "Training MSE: 958710.9\n",
            "Test MSE: 413831.5\n",
            "=============EPOCH 12============\n",
            "Training MSE: 586668.7\n",
            "Test MSE: 422897.2\n",
            "=============EPOCH 13============\n",
            "Training MSE: 158506.8\n",
            "Test MSE: 373310.7\n",
            "=============EPOCH 14============\n",
            "Training MSE: 453746.0\n",
            "Test MSE: 365691.1\n",
            "=============EPOCH 15============\n",
            "Training MSE: 566716.8\n",
            "Test MSE: 368699.4\n",
            "=============EPOCH 16============\n",
            "Training MSE: 486903.4\n",
            "Test MSE: 353258.0\n",
            "=============EPOCH 17============\n",
            "Training MSE: 374675.4\n",
            "Test MSE: 345600.3\n",
            "=============EPOCH 18============\n",
            "Training MSE: 283711.5\n",
            "Test MSE: 339128.4\n",
            "=============EPOCH 19============\n",
            "Training MSE: 364088.9\n",
            "Test MSE: 359031.8\n",
            "=============EPOCH 20============\n",
            "Training MSE: 183627.7\n",
            "Test MSE: 347741.3\n",
            "=============EPOCH 21============\n",
            "Training MSE: 146314.9\n",
            "Test MSE: 352932.6\n",
            "=============EPOCH 22============\n",
            "Training MSE: 612232.4\n",
            "Test MSE: 342792.4\n",
            "=============EPOCH 23============\n",
            "Training MSE: 305977.3\n",
            "Test MSE: 332995.9\n",
            "=============EPOCH 24============\n",
            "Training MSE: 275002.5\n",
            "Test MSE: 364005.3\n",
            "=============EPOCH 25============\n",
            "Training MSE: 350942.3\n",
            "Test MSE: 331707.7\n",
            "=============EPOCH 26============\n",
            "Training MSE: 159107.6\n",
            "Test MSE: 329372.3\n",
            "=============EPOCH 27============\n",
            "Training MSE: 303275.5\n",
            "Test MSE: 328547.8\n",
            "=============EPOCH 28============\n",
            "Training MSE: 87025.8\n",
            "Test MSE: 330411.1\n",
            "=============EPOCH 29============\n",
            "Training MSE: 195623.2\n",
            "Test MSE: 321791.1\n",
            "=============EPOCH 30============\n",
            "Training MSE: 258462.9\n",
            "Test MSE: 316979.6\n",
            "=============EPOCH 31============\n",
            "Training MSE: 110430.8\n",
            "Test MSE: 340839.3\n",
            "=============EPOCH 32============\n",
            "Training MSE: 421476.6\n",
            "Test MSE: 314467.2\n",
            "=============EPOCH 33============\n",
            "Training MSE: 525158.9\n",
            "Test MSE: 323825.8\n",
            "=============EPOCH 34============\n",
            "Training MSE: 222478.8\n",
            "Test MSE: 336959.6\n",
            "=============EPOCH 35============\n",
            "Training MSE: 231912.9\n",
            "Test MSE: 318411.2\n",
            "=============EPOCH 36============\n",
            "Training MSE: 755649.5\n",
            "Test MSE: 323235.9\n",
            "=============EPOCH 37============\n",
            "Training MSE: 277931.0\n",
            "Test MSE: 316852.6\n",
            "=============EPOCH 38============\n",
            "Training MSE: 385605.5\n",
            "Test MSE: 323785.3\n",
            "=============EPOCH 39============\n",
            "Training MSE: 82995.1\n",
            "Test MSE: 317911.7\n",
            "=============EPOCH 40============\n",
            "Training MSE: 156523.5\n",
            "Test MSE: 328016.3\n",
            "Done Trainning\n",
            "\n",
            "=====================\n",
            "\n",
            "Using the network to make individual predictions\n",
            "Actual | Predicted\n",
            "=====================\n",
            "     802   |   782.0\n",
            "     935   |   915.0\n",
            "    5826   |  6156.0\n",
            "     935   |  1014.0\n",
            "    2817   |  2985.0\n",
            "     855   |   631.0\n",
            "    2846   |  2730.0\n",
            "     926   |   936.0\n",
            "   15962   | 16446.0\n",
            "    5445   |  5574.0\n",
            "    2550   |  2300.0\n",
            "    6221   |  5838.0\n",
            "     544   |   541.0\n",
            "    1122   |   895.0\n",
            "    1367   |  1386.0\n",
            "    4077   |  4153.0\n",
            "    2144   |  2059.0\n",
            "    2960   |  2675.0\n",
            "    7131   |  7963.0\n",
            "    1221   |  1215.0\n",
            "    4563   |  5430.0\n",
            "    3830   |  4050.0\n",
            "    1137   |  1136.0\n",
            "    1361   |  1360.0\n",
            "    4641   |  4622.0\n",
            "Correlation:  0.9970722623592988\n"
          ],
          "name": "stdout"
        }
      ]
    },
    {
      "cell_type": "code",
      "metadata": {
        "id": "1VkOsIBlxXNa",
        "outputId": "a6117d0a-9882-41da-c524-ca5cd1d1e46c",
        "colab": {
          "base_uri": "https://localhost:8080/",
          "height": 374
        }
      },
      "source": [
        "fig, ax = plt.subplots(figsize=(8,6))\n",
        "ax.plot(train_mse, label='Train MSE')\n",
        "ax.plot(test_mse, label='Test MSE')\n",
        "ax.legend()\n",
        "ax.grid()"
      ],
      "execution_count": null,
      "outputs": [
        {
          "output_type": "display_data",
          "data": {
            "image/png": "[encoded data removed]",
            "text/plain": [
              "<Figure size 576x432 with 1 Axes>"
            ]
          },
          "metadata": {
            "tags": []
          }
        }
      ]
    },
    {
      "cell_type": "code",
      "metadata": {
        "id": "y_TKbB-FxXNc"
      },
      "source": [
        ""
      ],
      "execution_count": null,
      "outputs": []
    }
  ]
}